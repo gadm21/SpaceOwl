{
 "cells": [
  {
   "cell_type": "code",
   "execution_count": 8,
   "metadata": {},
   "outputs": [],
   "source": [
    "import numpy as np\n",
    "from utils import parse_csi, get_data_files, generate_labels, split_csi\n",
    "from nn_utils import CSIModel, train, evaluate, ComplexCSIModel\n",
    "\n",
    "\n",
    "import numpy as np\n",
    "import torch\n",
    "from torch.utils.data import DataLoader, random_split, TensorDataset\n",
    "import torch.nn as nn\n",
    "import torch.optim as optim\n",
    "\n",
    "import os "
   ]
  },
  {
   "cell_type": "code",
   "execution_count": 9,
   "metadata": {},
   "outputs": [
    {
     "data": {
      "text/plain": [
       "['../data/room_dooropen.csv',\n",
       " '../data/room_doorclosed2.csv',\n",
       " '../data/room_doorclosed.csv']"
      ]
     },
     "execution_count": 9,
     "metadata": {},
     "output_type": "execute_result"
    }
   ],
   "source": [
    "\n",
    "file_paths = get_data_files(data_dir = '../data/') \n",
    "file_paths "
   ]
  },
  {
   "cell_type": "code",
   "execution_count": 10,
   "metadata": {},
   "outputs": [
    {
     "ename": "TypeError",
     "evalue": "parse_csi() got an unexpected keyword argument 'macs'",
     "output_type": "error",
     "traceback": [
      "\u001b[0;31m---------------------------------------------------------------------------\u001b[0m",
      "\u001b[0;31mTypeError\u001b[0m                                 Traceback (most recent call last)",
      "Cell \u001b[0;32mIn[10], line 5\u001b[0m\n\u001b[1;32m      3\u001b[0m data, found_macs \u001b[38;5;241m=\u001b[39m [], [] \n\u001b[1;32m      4\u001b[0m \u001b[38;5;28;01mfor\u001b[39;00m file_path \u001b[38;5;129;01min\u001b[39;00m file_paths: \n\u001b[0;32m----> 5\u001b[0m     csi, mac \u001b[38;5;241m=\u001b[39m \u001b[43mparse_csi\u001b[49m\u001b[43m(\u001b[49m\u001b[43mfile_path\u001b[49m\u001b[43m,\u001b[49m\u001b[43m \u001b[49m\u001b[43mmacs\u001b[49m\u001b[43m \u001b[49m\u001b[38;5;241;43m=\u001b[39;49m\u001b[43m \u001b[49m\u001b[43mmacs\u001b[49m\u001b[43m)\u001b[49m\n\u001b[1;32m      6\u001b[0m     csi \u001b[38;5;241m=\u001b[39m split_csi(csi, \u001b[38;5;241m3000\u001b[39m) \n\u001b[1;32m      8\u001b[0m     data\u001b[38;5;241m.\u001b[39mappend(csi)\n",
      "\u001b[0;31mTypeError\u001b[0m: parse_csi() got an unexpected keyword argument 'macs'"
     ]
    }
   ],
   "source": [
    "macs = ['A0:A3:B3:AA:76:38']\n",
    "\n",
    "data, found_macs = [], [] \n",
    "for file_path in file_paths: \n",
    "    csi, mac = parse_csi(file_path, macs = macs)\n",
    "    csi = split_csi(csi, 3000) \n",
    "\n",
    "    data.append(csi)\n",
    "    found_macs.append(mac)"
   ]
  },
  {
   "cell_type": "code",
   "execution_count": null,
   "metadata": {},
   "outputs": [],
   "source": []
  }
 ],
 "metadata": {
  "kernelspec": {
   "display_name": "rem",
   "language": "python",
   "name": "python3"
  },
  "language_info": {
   "codemirror_mode": {
    "name": "ipython",
    "version": 3
   },
   "file_extension": ".py",
   "mimetype": "text/x-python",
   "name": "python",
   "nbconvert_exporter": "python",
   "pygments_lexer": "ipython3",
   "version": "3.9.18"
  }
 },
 "nbformat": 4,
 "nbformat_minor": 2
}

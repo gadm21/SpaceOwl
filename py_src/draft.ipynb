{
 "cells": [
  {
   "cell_type": "code",
   "execution_count": 2,
   "metadata": {},
   "outputs": [],
   "source": [
    "import numpy as np\n",
    "from utils import parse_csi, get_data_files, generate_labels, split_csi\n",
    "from nn_utils import CSIModel, train, evaluate, ComplexCSIModel\n",
    "\n",
    "\n",
    "import numpy as np\n",
    "import torch\n",
    "from torch.utils.data import DataLoader, random_split, TensorDataset\n",
    "import torch.nn as nn\n",
    "import torch.optim as optim\n",
    "\n",
    "import os "
   ]
  },
  {
   "cell_type": "code",
   "execution_count": 3,
   "metadata": {},
   "outputs": [
    {
     "name": "stdout",
     "output_type": "stream",
     "text": [
      "['../data/room_doorclosed.csv', '../data/room_doorclosed2.csv', '../data/room_dooropen.csv', '../data/room_playcomputer.csv']\n"
     ]
    }
   ],
   "source": [
    "\n",
    "file_paths = get_data_files(data_dir = '../data/')\n",
    "file_paths = sorted(file_paths)\n",
    "print(file_paths)"
   ]
  },
  {
   "cell_type": "code",
   "execution_count": 5,
   "metadata": {},
   "outputs": [
    {
     "name": "stdout",
     "output_type": "stream",
     "text": [
      "reading file:  ../data/room_doorclosed.csv\n",
      "(3866803, 2)\n",
      "reading file:  ../data/room_doorclosed2.csv\n",
      "(3134773, 2)\n",
      "reading file:  ../data/room_dooropen.csv\n",
      "(8210781, 2)\n",
      "reading file:  ../data/room_playcomputer.csv\n",
      "(7561713, 2)\n"
     ]
    }
   ],
   "source": [
    "macs = ['A0:A3:B3:AA:76:38']\n",
    "\n",
    "data, found_macs = [], [] \n",
    "for file_path in file_paths: \n",
    "    csi, mac = parse_csi(file_path, macs)\n",
    "    print(csi.shape)\n",
    "    csi = split_csi(csi, 3000) \n",
    "    if file_path.split('/')[-1].split('.')[0][-1].isdigit():\n",
    "        data[-1] = np.concatenate((data[-1], csi), axis = 0)\n",
    "        found_macs[-1] = np.concatenate((found_macs[-1], mac), axis = 0) \n",
    "    else:\n",
    "        data.append(csi)\n",
    "        found_macs.append(mac)"
   ]
  },
  {
   "cell_type": "code",
   "execution_count": 6,
   "metadata": {},
   "outputs": [
    {
     "data": {
      "text/plain": [
       "((7588, 3000, 2), (7588,))"
      ]
     },
     "execution_count": 6,
     "metadata": {},
     "output_type": "execute_result"
    }
   ],
   "source": [
    "labels = generate_labels(data) \n",
    "\n",
    "data = np.concatenate(data, axis = 0)\n",
    "labels = np.concatenate(labels, axis = 0)\n",
    "data.shape, labels.shape"
   ]
  },
  {
   "cell_type": "code",
   "execution_count": 7,
   "metadata": {},
   "outputs": [
    {
     "name": "stdout",
     "output_type": "stream",
     "text": [
      "Epoch 1/10, Loss: 1.0978391816741542\n",
      "Epoch 2/10, Loss: 1.0971755711655868\n",
      "Epoch 3/10, Loss: 1.0967040463497764\n",
      "Epoch 4/10, Loss: 1.0968593402912743\n",
      "Epoch 5/10, Loss: 1.0969389413532458\n",
      "Epoch 6/10, Loss: 1.0968270213980424\n",
      "Epoch 7/10, Loss: 1.0969944382968702\n",
      "Epoch 8/10, Loss: 1.0968635747307225\n",
      "Epoch 9/10, Loss: 1.096896473357552\n",
      "Epoch 10/10, Loss: 1.096853524760196\n"
     ]
    }
   ],
   "source": [
    "\n",
    "t_data, t_labels = torch.tensor(data, dtype = torch.float32), torch.tensor(labels, dtype = torch.long)\n",
    "dataset = TensorDataset(t_data, t_labels)\n",
    "\n",
    "train_size = int(0.8 * len(dataset))\n",
    "val_size = len(dataset) - train_size\n",
    "train_dataset, val_dataset = random_split(dataset, [train_size, val_size])\n",
    "\n",
    "train_loader = DataLoader(train_dataset, batch_size = 32, shuffle = True)\n",
    "val_loader = DataLoader(val_dataset, batch_size = 32, shuffle = True)\n",
    "\n",
    "input_size, hidden_size, output_size = 2, 10, len(np.unique(labels)) \n",
    "model = ComplexCSIModel(input_size, hidden_size, num_layers = 10, output_size = output_size, dropout_rate = 0.2)\n",
    "criterion = nn.CrossEntropyLoss()\n",
    "optimizer = optim.Adam(model.parameters(), lr = 0.01)\n",
    "\n",
    "train(model, train_loader, criterion, optimizer, num_epochs = 10) \n"
   ]
  },
  {
   "cell_type": "code",
   "execution_count": 8,
   "metadata": {},
   "outputs": [
    {
     "name": "stdout",
     "output_type": "stream",
     "text": [
      "Accuracy on validation set: 36.23%\n"
     ]
    }
   ],
   "source": [
    "tars, preds = evaluate(model, val_loader)"
   ]
  },
  {
   "cell_type": "code",
   "execution_count": 9,
   "metadata": {},
   "outputs": [
    {
     "name": "stdout",
     "output_type": "stream",
     "text": [
      "[[  0 460   0]\n",
      " [  0 550   0]\n",
      " [  0 508   0]]\n",
      "              precision    recall  f1-score   support\n",
      "\n",
      "           0       0.00      0.00      0.00       460\n",
      "           1       0.36      1.00      0.53       550\n",
      "           2       0.00      0.00      0.00       508\n",
      "\n",
      "    accuracy                           0.36      1518\n",
      "   macro avg       0.12      0.33      0.18      1518\n",
      "weighted avg       0.13      0.36      0.19      1518\n",
      "\n"
     ]
    },
    {
     "name": "stderr",
     "output_type": "stream",
     "text": [
      "/opt/anaconda3/envs/rem/lib/python3.9/site-packages/sklearn/metrics/_classification.py:1509: UndefinedMetricWarning: Precision is ill-defined and being set to 0.0 in labels with no predicted samples. Use `zero_division` parameter to control this behavior.\n",
      "  _warn_prf(average, modifier, f\"{metric.capitalize()} is\", len(result))\n",
      "/opt/anaconda3/envs/rem/lib/python3.9/site-packages/sklearn/metrics/_classification.py:1509: UndefinedMetricWarning: Precision is ill-defined and being set to 0.0 in labels with no predicted samples. Use `zero_division` parameter to control this behavior.\n",
      "  _warn_prf(average, modifier, f\"{metric.capitalize()} is\", len(result))\n",
      "/opt/anaconda3/envs/rem/lib/python3.9/site-packages/sklearn/metrics/_classification.py:1509: UndefinedMetricWarning: Precision is ill-defined and being set to 0.0 in labels with no predicted samples. Use `zero_division` parameter to control this behavior.\n",
      "  _warn_prf(average, modifier, f\"{metric.capitalize()} is\", len(result))\n"
     ]
    }
   ],
   "source": [
    "# calculate metrics \n",
    "from sklearn.metrics import confusion_matrix, classification_report\n",
    "cm = confusion_matrix(tars, preds)\n",
    "print(cm)\n",
    "print(classification_report(tars, preds))\n"
   ]
  },
  {
   "cell_type": "code",
   "execution_count": null,
   "metadata": {},
   "outputs": [],
   "source": []
  }
 ],
 "metadata": {
  "kernelspec": {
   "display_name": "rem",
   "language": "python",
   "name": "python3"
  },
  "language_info": {
   "codemirror_mode": {
    "name": "ipython",
    "version": 3
   },
   "file_extension": ".py",
   "mimetype": "text/x-python",
   "name": "python",
   "nbconvert_exporter": "python",
   "pygments_lexer": "ipython3",
   "version": "3.9.18"
  }
 },
 "nbformat": 4,
 "nbformat_minor": 2
}

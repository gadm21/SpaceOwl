{
 "cells": [
  {
   "cell_type": "code",
   "execution_count": null,
   "metadata": {},
   "outputs": [],
   "source": [
    "import numpy as np\n",
    "from utils import parse_csi, get_data_files, generate_labels, split_csi\n",
    "from nn_utils import CSIModel, train, evaluate, ComplexCSIModel\n",
    "\n",
    "\n",
    "import numpy as np\n",
    "import torch\n",
    "from torch.utils.data import DataLoader, random_split, TensorDataset\n",
    "import torch.nn as nn\n",
    "import torch.optim as optim\n",
    "\n",
    "import os "
   ]
  },
  {
   "cell_type": "code",
   "execution_count": null,
   "metadata": {},
   "outputs": [],
   "source": [
    "\n",
    "file_paths = get_data_files(data_dir = '../data/')\n",
    "file_paths = [file_path for file_path in file_paths if 'library' in file_path]\n",
    "file_paths = sorted(file_paths)\n",
    "print(file_paths)"
   ]
  },
  {
   "cell_type": "code",
   "execution_count": null,
   "metadata": {},
   "outputs": [],
   "source": [
    "macs = ['A0:A3:B3:AA:76:38']\n",
    "\n",
    "data, found_macs = [], [] \n",
    "for file_path in file_paths: \n",
    "    csi, mac = parse_csi(file_path, macs)\n",
    "    print(csi.shape)\n",
    "    csi = split_csi(csi, 20) \n",
    "    if file_path.split('/')[-1].split('.')[0][-1].isdigit():\n",
    "        data[-1] = np.concatenate((data[-1], csi), axis = 0)\n",
    "        found_macs[-1] = np.concatenate((found_macs[-1], mac), axis = 0) \n",
    "    else:\n",
    "        data.append(csi)\n",
    "        found_macs.append(mac)\n",
    "\n"
   ]
  },
  {
   "cell_type": "code",
   "execution_count": null,
   "metadata": {},
   "outputs": [],
   "source": [
    "min_len = min([len(d) for d in data])\n",
    "data = [d[:min_len] for d in data]\n"
   ]
  },
  {
   "cell_type": "code",
   "execution_count": null,
   "metadata": {},
   "outputs": [],
   "source": [
    "labels = generate_labels(data) \n",
    "\n",
    "data = np.concatenate(data, axis = 0)\n",
    "labels = np.concatenate(labels, axis = 0)\n",
    "data.shape, labels.shape"
   ]
  },
  {
   "cell_type": "code",
   "execution_count": null,
   "metadata": {},
   "outputs": [],
   "source": [
    "\n",
    "t_data, t_labels = torch.tensor(data, dtype = torch.float32), torch.tensor(labels, dtype = torch.long)\n",
    "dataset = TensorDataset(t_data, t_labels)\n",
    "\n",
    "train_size = int(0.8 * len(dataset))\n",
    "val_size = len(dataset) - train_size\n",
    "train_dataset, val_dataset = random_split(dataset, [train_size, val_size])\n",
    "\n",
    "train_loader = DataLoader(train_dataset, batch_size = 32, shuffle = True)\n",
    "val_loader = DataLoader(val_dataset, batch_size = 32, shuffle = True)\n",
    "\n",
    "input_size, hidden_size, output_size = 384, 100, len(np.unique(labels)) \n",
    "model = ComplexCSIModel(input_size, hidden_size, num_layers = 20, output_size = output_size, dropout_rate = 0.1)\n",
    "criterion = nn.CrossEntropyLoss()\n",
    "optimizer = optim.Adam(model.parameters(), lr = 0.05)\n",
    "\n",
    "train(model, train_loader, criterion, optimizer, num_epochs = 20) \n"
   ]
  },
  {
   "cell_type": "code",
   "execution_count": null,
   "metadata": {},
   "outputs": [],
   "source": [
    "tars, preds = evaluate(model, val_loader)"
   ]
  },
  {
   "cell_type": "code",
   "execution_count": null,
   "metadata": {},
   "outputs": [],
   "source": [
    "# calculate metrics \n",
    "from sklearn.metrics import confusion_matrix, classification_report\n",
    "cm = confusion_matrix(tars, preds)\n",
    "print(cm)\n",
    "print(classification_report(tars, preds))\n"
   ]
  },
  {
   "cell_type": "code",
   "execution_count": null,
   "metadata": {},
   "outputs": [],
   "source": []
  }
 ],
 "metadata": {
  "kernelspec": {
   "display_name": "rem",
   "language": "python",
   "name": "python3"
  },
  "language_info": {
   "codemirror_mode": {
    "name": "ipython",
    "version": 3
   },
   "file_extension": ".py",
   "mimetype": "text/x-python",
   "name": "python",
   "nbconvert_exporter": "python",
   "pygments_lexer": "ipython3",
   "version": "3.9.18"
  }
 },
 "nbformat": 4,
 "nbformat_minor": 2
}
